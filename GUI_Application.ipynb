{
  "nbformat": 4,
  "nbformat_minor": 0,
  "metadata": {
    "colab": {
      "name": "GUI Application.ipynb",
      "provenance": [],
      "authorship_tag": "ABX9TyPXhZ1no2CbDIzPYdRy23eJ",
      "include_colab_link": true
    },
    "kernelspec": {
      "name": "python3",
      "display_name": "Python 3"
    },
    "language_info": {
      "name": "python"
    }
  },
  "cells": [
    {
      "cell_type": "markdown",
      "metadata": {
        "id": "view-in-github",
        "colab_type": "text"
      },
      "source": [
        "<a href=\"https://colab.research.google.com/github/GeraldChristianBalindan/OOP-1-2/blob/main/GUI_Application.ipynb\" target=\"_parent\"><img src=\"https://colab.research.google.com/assets/colab-badge.svg\" alt=\"Open In Colab\"/></a>"
      ]
    },
    {
      "cell_type": "code",
      "execution_count": 23,
      "metadata": {
        "colab": {
          "base_uri": "https://localhost:8080/"
        },
        "id": "TttIec0hu5F6",
        "outputId": "036e34e4-86ee-42e7-dfcf-9b6c375d02e0"
      },
      "outputs": [
        {
          "output_type": "stream",
          "name": "stdout",
          "text": [
            "Student's Name: Gerald Christian Rey R. Balindan\n",
            "The Prelim grade is: 97\n",
            "The Midterm grade is: 89\n",
            "The Finals grade is: 95\n",
            "The Average grade is: 93.67\n",
            "The student's Gender is Male\n",
            "The student's Birthdate is : 2022,12,18\n"
          ]
        }
      ],
      "source": [
        "#@title Students Grade in OOP\n",
        "\n",
        "Student_Name1 = \"Gerald Christian Rey R. Balindan\" #@param{type:\"string\"}\n",
        "prelim =  97#@param {type:\"number\"} \n",
        "midterm =  89#@param {type:\"number\"}\n",
        "finals =  95#@param{type:\"number\"}\n",
        "semestral_grade = (prelim+midterm+finals)/3\n",
        "\n",
        "print(f\"Student's Name: {str(Student_Name1)}\")\n",
        "print(f\"The Prelim grade is: {str(prelim)}\")\n",
        "print(f\"The Midterm grade is: {str(midterm)}\")\n",
        "print(f\"The Finals grade is: {str(finals)}\")\n",
        "print(f\"The Average grade is: {round(semestral_grade,2)}\")\n",
        "\n",
        "#@title Gender\n",
        "Gender = \"Male\" #@param[\"Male\",\"Female\"]\n",
        "print(f\"The student's Gender is {str(Gender)}\")\n",
        "\n",
        "Birthdate = \"2022,12,18\" #@param{type:\"date\"}\n",
        "print(f\"The student's Birthdate is : {str(Birthdate)}\")\n"
      ]
    }
  ]
}