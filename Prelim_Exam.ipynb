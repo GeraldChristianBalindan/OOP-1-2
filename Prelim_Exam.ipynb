{
  "nbformat": 4,
  "nbformat_minor": 0,
  "metadata": {
    "colab": {
      "name": "Prelim Exam.ipynb",
      "provenance": [],
      "authorship_tag": "ABX9TyMYiE19L64oIfX13XrWt/SM",
      "include_colab_link": true
    },
    "kernelspec": {
      "name": "python3",
      "display_name": "Python 3"
    },
    "language_info": {
      "name": "python"
    }
  },
  "cells": [
    {
      "cell_type": "markdown",
      "metadata": {
        "id": "view-in-github",
        "colab_type": "text"
      },
      "source": [
        "<a href=\"https://colab.research.google.com/github/GeraldChristianBalindan/OOP-1-2/blob/main/Prelim_Exam.ipynb\" target=\"_parent\"><img src=\"https://colab.research.google.com/assets/colab-badge.svg\" alt=\"Open In Colab\"/></a>"
      ]
    },
    {
      "cell_type": "code",
      "execution_count": 11,
      "metadata": {
        "colab": {
          "base_uri": "https://localhost:8080/"
        },
        "id": "tmVkT5ynU_oL",
        "outputId": "cdbcbc8e-ce1b-4db3-963e-6ce2a76810ae"
      },
      "outputs": [
        {
          "output_type": "stream",
          "name": "stdout",
          "text": [
            "Student name: Gerald Christian Rey R. Balindan \n",
            "Student No.: 202101796 \n",
            "Student Age: 19 \n",
            "Student School: Cavite State University-Indang Campus \n",
            "Student Course: Bachelor of Science Major in Computer Engineering\n",
            "I am Gerald Christian Rey R. Balindan \n",
            "My Student No. is 202101796 \n",
            "I am in the 19th year of my life \n",
            "My school where I took my course is Cavite State University-Indang Campus \n",
            "Lastly my course is Bachelor of Science Major in Computer Engineering\n"
          ]
        }
      ],
      "source": [
        "class Student:\n",
        "  def __init__(self,Name,Student_No,Age,School,Course):\n",
        "    self.Name = Name\n",
        "    self.Student_No = Student_No\n",
        "    self.Age = Age\n",
        "    self.School = School\n",
        "    self.Course = Course\n",
        "\n",
        "  def Info(self):\n",
        "    print(f\"Student name: {self.Name} \\nStudent No.: {self.Student_No} \\nStudent Age: {self.Age} \\nStudent School: {self.School} \\nStudent Course: {self.Course}\")\n",
        "    print(f\"I am {self.Name} \\nMy Student No. is {self.Student_No} \\nI am in the {self.Age}th year of my life \\nMy school where I took my course is {self.School} \\nLastly my course is {self.Course}\")\n",
        "\n",
        "Myself = Student(\"Gerald Christian Rey R. Balindan\", 202101796, 19, \"Cavite State University-Indang Campus\", \"Bachelor of Science Major in Computer Engineering\")\n",
        "Myself.Info()\n"
      ]
    }
  ]
}