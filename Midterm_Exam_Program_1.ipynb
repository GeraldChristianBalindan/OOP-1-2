{
  "nbformat": 4,
  "nbformat_minor": 0,
  "metadata": {
    "colab": {
      "name": "Midterm Exam Program-1.ipynb",
      "provenance": [],
      "authorship_tag": "ABX9TyOzFEbUEfv6BO0659bbasVL",
      "include_colab_link": true
    },
    "kernelspec": {
      "name": "python3",
      "display_name": "Python 3"
    },
    "language_info": {
      "name": "python"
    }
  },
  "cells": [
    {
      "cell_type": "markdown",
      "metadata": {
        "id": "view-in-github",
        "colab_type": "text"
      },
      "source": [
        "<a href=\"https://colab.research.google.com/github/GeraldChristianBalindan/OOP-1-2/blob/main/Midterm_Exam_Program_1.ipynb\" target=\"_parent\"><img src=\"https://colab.research.google.com/assets/colab-badge.svg\" alt=\"Open In Colab\"/></a>"
      ]
    },
    {
      "cell_type": "code",
      "source": [
        "def main():\n",
        "    class TemperatureConversion:\n",
        "        def __init__(self, temp=1):\n",
        "            self._temp = temp\n",
        "\n",
        "    class CelsiusToFahrenheit(TemperatureConversion):\n",
        "        def conversion(self):\n",
        "            return (self._temp * 9) / 5 + 32\n",
        "\n",
        "        def Fahrenheit_to_Celsius(self):  \n",
        "            return (self.conversion() - 32) * 5 / 9\n",
        "\n",
        "    class CelsiusToKelvin(TemperatureConversion):\n",
        "        def conversion(self):\n",
        "            return self._temp + 273.15\n",
        "\n",
        "        def Kelvin_to_Celsius(self):  \n",
        "            return self.conversion() - 273.15\n",
        "\n",
        "\n",
        "    tempInCelsius = float(input(\"Enter the temperature in Celsius: \"))\n",
        "    convert_1st = CelsiusToFahrenheit(tempInCelsius)\n",
        "    print(str(convert_1st.conversion()) + \" Fahrenheit\")\n",
        "    convert_2nd = CelsiusToKelvin(tempInCelsius)\n",
        "    print(str(convert_1st.conversion()) + \" Kelvin\")\n",
        "    \n",
        "    print(f\"Temperature {convert_1st.conversion()} Fahrenheit is equal to {convert_1st.Fahrenheit_to_Celsius()} Celsius\")\n",
        "    print(f\"Temperature {convert_2nd.conversion()} Kelvin is equal to {convert_2nd.Kelvin_to_Celsius()} Celsius\")\n",
        "    \n",
        "\n",
        "main()"
      ],
      "metadata": {
        "colab": {
          "base_uri": "https://localhost:8080/"
        },
        "id": "5w9BnID257U-",
        "outputId": "0ec8d9ca-df27-4224-8fb2-9cc051f47eff"
      },
      "execution_count": 24,
      "outputs": [
        {
          "output_type": "stream",
          "name": "stdout",
          "text": [
            "Enter the temperature in Celsius: 30\n",
            "86.0 Fahrenheit\n",
            "86.0 Kelvin\n",
            "Temperature 86.0 Fahrenheit is equal to 30.0 Celsius\n",
            "Temperature 303.15 Kelvin is equal to 30.0 Celsius\n"
          ]
        }
      ]
    }
  ]
}