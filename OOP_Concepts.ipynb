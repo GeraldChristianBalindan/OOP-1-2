{
  "nbformat": 4,
  "nbformat_minor": 0,
  "metadata": {
    "colab": {
      "name": "OOP Concepts.ipynb",
      "provenance": [],
      "collapsed_sections": [],
      "authorship_tag": "ABX9TyMgxUqqcj3clM8hV7/x1xO7",
      "include_colab_link": true
    },
    "kernelspec": {
      "name": "python3",
      "display_name": "Python 3"
    },
    "language_info": {
      "name": "python"
    }
  },
  "cells": [
    {
      "cell_type": "markdown",
      "metadata": {
        "id": "view-in-github",
        "colab_type": "text"
      },
      "source": [
        "<a href=\"https://colab.research.google.com/github/GeraldChristianBalindan/OOP-1-2/blob/main/OOP_Concepts.ipynb\" target=\"_parent\"><img src=\"https://colab.research.google.com/assets/colab-badge.svg\" alt=\"Open In Colab\"/></a>"
      ]
    },
    {
      "cell_type": "markdown",
      "source": [
        "###Phython Classes and Objects\n"
      ],
      "metadata": {
        "id": "40jLklgfSCPX"
      }
    },
    {
      "cell_type": "code",
      "execution_count": null,
      "metadata": {
        "id": "iYH86Hx7R82N"
      },
      "outputs": [],
      "source": [
        "class MyClass:\n",
        "  pass"
      ]
    },
    {
      "cell_type": "code",
      "source": [
        "class OOP1_2:\n",
        "  x = 5\n",
        "  print(x)"
      ],
      "metadata": {
        "colab": {
          "base_uri": "https://localhost:8080/"
        },
        "id": "LJwGGW2rSraa",
        "outputId": "572fa545-0c7d-426b-be8f-95c612d574f6"
      },
      "execution_count": null,
      "outputs": [
        {
          "output_type": "stream",
          "name": "stdout",
          "text": [
            "5\n"
          ]
        }
      ]
    },
    {
      "cell_type": "code",
      "source": [
        "class OOP1_2:\n",
        "  def __init__(self,name,age):\n",
        "    self.name = name #attributes\n",
        "    self.age = age\n",
        "\n",
        "  def identity(self):\n",
        "    print(self.name,self.age)\n",
        "\n",
        "person = OOP1_2(\"Gerald\", 19) #create objects\n",
        "\n",
        "print(person.name)\n",
        "print(person.age)\n",
        "print(person.identity())"
      ],
      "metadata": {
        "colab": {
          "base_uri": "https://localhost:8080/"
        },
        "id": "u-jRTauITI-V",
        "outputId": "4d1f1d14-416c-4cd3-a81c-262246ceeb7f"
      },
      "execution_count": null,
      "outputs": [
        {
          "output_type": "stream",
          "name": "stdout",
          "text": [
            "Gerald\n",
            "19\n",
            "Gerald 19\n",
            "None\n"
          ]
        }
      ]
    },
    {
      "cell_type": "code",
      "source": [
        "#Modify the object name\n",
        "\n",
        "person.name = \"Christian\"\n",
        "print(person.name)\n",
        "print(person.age)"
      ],
      "metadata": {
        "colab": {
          "base_uri": "https://localhost:8080/"
        },
        "id": "HafQ80PTWkiP",
        "outputId": "c631596d-01e6-4646-b7d0-11c753eb6756"
      },
      "execution_count": null,
      "outputs": [
        {
          "output_type": "stream",
          "name": "stdout",
          "text": [
            "Christian\n",
            "19\n"
          ]
        }
      ]
    },
    {
      "cell_type": "code",
      "source": [
        "#Delete the Object\n",
        "\n",
        "del person.name\n",
        "print(person.name)"
      ],
      "metadata": {
        "colab": {
          "base_uri": "https://localhost:8080/",
          "height": 217
        },
        "id": "hn4RY_aiW7ao",
        "outputId": "ab0f59d8-ad3e-40a4-cff8-44365482c900"
      },
      "execution_count": null,
      "outputs": [
        {
          "output_type": "error",
          "ename": "AttributeError",
          "evalue": "ignored",
          "traceback": [
            "\u001b[0;31m---------------------------------------------------------------------------\u001b[0m",
            "\u001b[0;31mAttributeError\u001b[0m                            Traceback (most recent call last)",
            "\u001b[0;32m<ipython-input-12-ded01ff9f84e>\u001b[0m in \u001b[0;36m<module>\u001b[0;34m()\u001b[0m\n\u001b[1;32m      1\u001b[0m \u001b[0;31m#Delete the Object\u001b[0m\u001b[0;34m\u001b[0m\u001b[0;34m\u001b[0m\u001b[0;34m\u001b[0m\u001b[0m\n\u001b[1;32m      2\u001b[0m \u001b[0;34m\u001b[0m\u001b[0m\n\u001b[0;32m----> 3\u001b[0;31m \u001b[0;32mdel\u001b[0m \u001b[0mperson\u001b[0m\u001b[0;34m.\u001b[0m\u001b[0mname\u001b[0m\u001b[0;34m\u001b[0m\u001b[0;34m\u001b[0m\u001b[0m\n\u001b[0m\u001b[1;32m      4\u001b[0m \u001b[0mprint\u001b[0m\u001b[0;34m(\u001b[0m\u001b[0mperson\u001b[0m\u001b[0;34m.\u001b[0m\u001b[0mname\u001b[0m\u001b[0;34m)\u001b[0m\u001b[0;34m\u001b[0m\u001b[0;34m\u001b[0m\u001b[0m\n",
            "\u001b[0;31mAttributeError\u001b[0m: name"
          ]
        }
      ]
    },
    {
      "cell_type": "code",
      "source": [
        "print(person.age)"
      ],
      "metadata": {
        "colab": {
          "base_uri": "https://localhost:8080/"
        },
        "id": "v06gH9csXRmu",
        "outputId": "65782a7f-7391-4ca0-e41c-94feb63c567f"
      },
      "execution_count": null,
      "outputs": [
        {
          "output_type": "stream",
          "name": "stdout",
          "text": [
            "19\n"
          ]
        }
      ]
    },
    {
      "cell_type": "markdown",
      "source": [
        "###Application 1 - Write a phyton program that computes the area of a square, and the name its class as square, Sides as attributes\n"
      ],
      "metadata": {
        "id": "712NhhFPXnkm"
      }
    },
    {
      "cell_type": "code",
      "source": [
        "class Square:\n",
        "  def __init__(self,sides):\n",
        "    self.sides = sides\n",
        "\n",
        "  def area(self):\n",
        "    return self.sides*self.sides #formula to compute the area of a square\n",
        "\n",
        "  def display(self):\n",
        "    print(\"The area of the square is:\", self.area())\n",
        "\n",
        "square = Square(4)\n",
        "\n",
        "#square.display()\n",
        "print(square.sides)\n",
        "square.display()"
      ],
      "metadata": {
        "colab": {
          "base_uri": "https://localhost:8080/"
        },
        "id": "oWVv-hv3XdfO",
        "outputId": "0fa0969f-bd2b-4fd6-a8d8-0e7a2ad6873c"
      },
      "execution_count": null,
      "outputs": [
        {
          "output_type": "stream",
          "name": "stdout",
          "text": [
            "4\n",
            "The area of the square is: 16\n"
          ]
        }
      ]
    },
    {
      "cell_type": "markdown",
      "source": [
        "###Application 2 - Write a phython program that displays your full name, age, course, school. Create a class named MyClass, and name, age, course, school as attributes"
      ],
      "metadata": {
        "id": "FDRaE5sFbsME"
      }
    },
    {
      "cell_type": "code",
      "source": [
        "class MyClass:\n",
        "  def __init__(self,name,age,course,school):\n",
        "    self.name = name\n",
        "    self.age = age\n",
        "    self.course = course\n",
        "    self.school = school\n",
        "\n",
        "  def identity(self):\n",
        "    print(self.name,self.age,self.course,self.school)\n",
        "\n",
        "Student = MyClass(\"Gerald Christian Rey R. Balindan\", 19, \"Bachelor of Science Major in Computer Engineering\", \"Cavite State University-Indang Campus\")\n",
        "\n",
        "print(Student.name)\n",
        "print(Student.age)\n",
        "print(Student.course)\n",
        "print(Student.school)\n",
        "print(f\"My name is {Student.name} and I am {Student.age} years old. I am a student taking {Student.course} in our beloved {Student.school}.\")"
      ],
      "metadata": {
        "colab": {
          "base_uri": "https://localhost:8080/"
        },
        "id": "-FObyooKcM48",
        "outputId": "ba5544c8-7c9d-49b5-d19d-7301debeefce"
      },
      "execution_count": 45,
      "outputs": [
        {
          "output_type": "stream",
          "name": "stdout",
          "text": [
            "Gerald Christian Rey R. Balindan\n",
            "19\n",
            "Bachelor of Science Major in Computer Engineering\n",
            "Cavite State University-Indang Campus\n",
            "My name is Gerald Christian Rey R. Balindan and I am 19 years old. I am a student taking Bachelor of Science Major in Computer Engineering in our beloved Cavite State University-Indang Campus.\n"
          ]
        }
      ]
    }
  ]
}