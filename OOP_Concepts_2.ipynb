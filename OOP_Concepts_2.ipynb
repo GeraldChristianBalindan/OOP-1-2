{
  "nbformat": 4,
  "nbformat_minor": 0,
  "metadata": {
    "colab": {
      "name": "OOP Concepts 2.ipynb",
      "provenance": [],
      "authorship_tag": "ABX9TyPKNrBN7QaTu7A8r2Mbqx01",
      "include_colab_link": true
    },
    "kernelspec": {
      "name": "python3",
      "display_name": "Python 3"
    },
    "language_info": {
      "name": "python"
    }
  },
  "cells": [
    {
      "cell_type": "markdown",
      "metadata": {
        "id": "view-in-github",
        "colab_type": "text"
      },
      "source": [
        "<a href=\"https://colab.research.google.com/github/GeraldChristianBalindan/OOP-1-2/blob/main/OOP_Concepts_2.ipynb\" target=\"_parent\"><img src=\"https://colab.research.google.com/assets/colab-badge.svg\" alt=\"Open In Colab\"/></a>"
      ]
    },
    {
      "cell_type": "markdown",
      "source": [
        "###Classes that has multiple objects"
      ],
      "metadata": {
        "id": "xF7cvmjJVP90"
      }
    },
    {
      "cell_type": "code",
      "execution_count": null,
      "metadata": {
        "colab": {
          "base_uri": "https://localhost:8080/"
        },
        "id": "ghlK4IxDTNDf",
        "outputId": "b3064f39-8a75-400c-ee3e-b4065ed04dc8"
      },
      "outputs": [
        {
          "output_type": "stream",
          "name": "stdout",
          "text": [
            " Griffon Vulture flies above the ground\n",
            " Common Crane flies above the ground\n",
            " Emu is the national bird of the Philippines\n"
          ]
        }
      ],
      "source": [
        "class Birds:\n",
        "  def __init__(self, bird_name):\n",
        "    self.bird_name = bird_name\n",
        "\n",
        "  def flying_birds(self):\n",
        "    print(f\" {self.bird_name} flies above the ground\")\n",
        "\n",
        "  def not_flying_birds(self):\n",
        "    print(f\" {self.bird_name} is the national bird of the Philippines\")\n",
        "\n",
        "vulture = Birds(\"Griffon Vulture\")\n",
        "crane = Birds(\"Common Crane\")\n",
        "emu = Birds(\"Emu\")\n",
        "\n",
        "vulture.flying_birds()\n",
        "crane.flying_birds()\n",
        "emu.not_flying_birds()"
      ]
    },
    {
      "cell_type": "markdown",
      "source": [
        "###Encapsulation using mangling with double underscores"
      ],
      "metadata": {
        "id": "CepN2RjEXV1r"
      }
    },
    {
      "cell_type": "code",
      "source": [
        "class foo:\n",
        "  def __init__(self, a, b):\n",
        "    self.__a = a\n",
        "    self.__b = b\n",
        "  \n",
        "  def add(self):\n",
        "    return self.__a + self.__b #private attributes\n",
        "\n",
        "number = foo(2,3)\n",
        "number.add()\n",
        "\n",
        "number.a = 7 #7 + 3 = 10\n",
        "number.add()"
      ],
      "metadata": {
        "colab": {
          "base_uri": "https://localhost:8080/"
        },
        "id": "2DFr3SL4XNim",
        "outputId": "bbe41f78-960c-4c31-bd8f-22f8ba07b5e1"
      },
      "execution_count": null,
      "outputs": [
        {
          "output_type": "execute_result",
          "data": {
            "text/plain": [
              "5"
            ]
          },
          "metadata": {},
          "execution_count": 9
        }
      ]
    },
    {
      "cell_type": "markdown",
      "source": [
        "###Encapsulation with private attributes"
      ],
      "metadata": {
        "id": "KEuO0DmJZE1V"
      }
    },
    {
      "cell_type": "code",
      "source": [
        "class Counter:\n",
        "  def __init__(self):\n",
        "    self.__current = 0\n",
        "\n",
        "  def increment(self):\n",
        "    self.__current += 1\n",
        "\n",
        "  def value(self):\n",
        "    return self.__current\n",
        "  \n",
        "  def reset(self):\n",
        "    self.__current = 0\n",
        "\n",
        "num = Counter()\n",
        "\n",
        "num.increment()\n",
        "num.increment()\n",
        "num.increment()\n",
        "\n",
        "num.Counter = 2\n",
        "\n",
        "num.value()"
      ],
      "metadata": {
        "colab": {
          "base_uri": "https://localhost:8080/"
        },
        "id": "e_kfE6JSZkon",
        "outputId": "3fdf4ec2-5b56-4f1e-c648-dda50a6a5ef1"
      },
      "execution_count": null,
      "outputs": [
        {
          "output_type": "execute_result",
          "data": {
            "text/plain": [
              "3"
            ]
          },
          "metadata": {},
          "execution_count": 18
        }
      ]
    },
    {
      "cell_type": "markdown",
      "source": [
        "###Inheritance"
      ],
      "metadata": {
        "id": "iXyUMrPzcqKh"
      }
    },
    {
      "cell_type": "code",
      "source": [
        "class Person:\n",
        "  def __init__(self,name,surname):\n",
        "    self.firstname = name\n",
        "    self.surname = surname\n",
        "\n",
        "  def printname(self):\n",
        "    print(self.firstname,self.surname)\n",
        "\n",
        "person = Person(\"Ana\",\"Santos\")\n",
        "person.printname()\n",
        "\n",
        "class Teacher(Person):\n",
        "  pass\n",
        "\n",
        "person2 = Teacher(\"Maria\",\"Sayo\")\n",
        "person2.printname()\n",
        "\n",
        "class Student(Person):\n",
        "  pass\n",
        "\n",
        "person3 = Student(\"Jhoriz\",\"Aquino\")\n",
        "person3.printname()\n"
      ],
      "metadata": {
        "colab": {
          "base_uri": "https://localhost:8080/"
        },
        "id": "IlkJY6nWcpnJ",
        "outputId": "8a158888-15ac-48c6-d180-6094677b1e8e"
      },
      "execution_count": null,
      "outputs": [
        {
          "output_type": "stream",
          "name": "stdout",
          "text": [
            "Ana Santos\n",
            "Maria Sayo\n",
            "Jhoriz Aquino\n"
          ]
        }
      ]
    },
    {
      "cell_type": "markdown",
      "source": [
        "###Polymorphism"
      ],
      "metadata": {
        "id": "2IZ2wpfRfWPW"
      }
    },
    {
      "cell_type": "code",
      "source": [
        "class RegularPolygon:\n",
        "    def __init__(self,side):\n",
        "        self.side = side\n",
        "class Square(RegularPolygon):\n",
        "    def area(self):\n",
        "        return self.side * self.side\n",
        "class EquilateralTriangle(RegularPolygon):\n",
        "    def area(self):\n",
        "        return self.side * self.side * 0.433\n",
        "\n",
        "\n",
        "object = Square(4)\n",
        "print(object.area())\n",
        "\n",
        "object2 = EquilateralTriangle(3)\n",
        "print(object2.area())"
      ],
      "metadata": {
        "colab": {
          "base_uri": "https://localhost:8080/"
        },
        "id": "ixPIJb75fZFV",
        "outputId": "abf17cba-f119-40a2-9d5e-a3da6f91577d"
      },
      "execution_count": null,
      "outputs": [
        {
          "output_type": "stream",
          "name": "stdout",
          "text": [
            "16\n",
            "3.897\n"
          ]
        }
      ]
    },
    {
      "cell_type": "markdown",
      "source": [
        "###Application 1"
      ],
      "metadata": {
        "id": "Y6xNwLTdhrfT"
      }
    },
    {
      "cell_type": "code",
      "source": [
        "class Person:\n",
        "  def __init__(self,name,pre,mid,fin):\n",
        "    self._name = name\n",
        "    self._pre = pre\n",
        "    self._mid = mid\n",
        "    self._fin = fin\n",
        "\n",
        "class Student_1(Person):\n",
        "  def Grade(self):\n",
        "    Final_Ave = ((self._pre + self._mid + self._fin)/3)\n",
        "    print(f\"Prelim : {str(self._pre)}\")\n",
        "    print(f\"Midterm: {str(self._mid)}\")\n",
        "    print(f\"Finals : {str(self._fin)}\")\n",
        "    print(\"--------------------------\")\n",
        "    print(f\"Average Grade: {str(round(Final_Ave,2))}\")\n",
        "\n",
        "class Student_2(Person):\n",
        "  def Grade(self):\n",
        "    Final_Ave = ((self._pre*0.25) + (self._mid*0.25) + (self._fin*0.50))\n",
        "    print(f\"Prelim : {str(self._pre)}\")\n",
        "    print(f\"Midterm: {str(self._mid)}\")\n",
        "    print(f\"Finals : {str(self._fin)}\")\n",
        "    print(\"--------------------------\")\n",
        "    print(f\"Average Grade: {str(round(Final_Ave,2))}\")\n",
        "\n",
        "class Student_3(Person):\n",
        "  def Grade(self):\n",
        "    Final_Ave = ((self._pre*0.30) + (self._mid*0.30) + (self._fin*0.40))\n",
        "    print(f\"Prelim : {str(self._pre)}\")\n",
        "    print(f\"Midterm: {str(self._mid)}\")\n",
        "    print(f\"Finals : {str(self._fin)}\")\n",
        "    print(\"--------------------------\")\n",
        "    print(f\"Average Grade: {str(round(Final_Ave,2))}\")\n",
        "\n",
        "std1 = Student_1(\"Gumayusi\", 93, 92, 83)\n",
        "std2 = Student_2(\"Keria\", 99, 85, 89)\n",
        "std3 = Student_3(\"Oner\", 89, 85, 96)\n",
        "\n",
        "Student_Name = (input(\"Student's Name: \"))\n",
        "\n",
        "if Student_Name == \"Gumayusi\":\n",
        "  std1.Grade()\n",
        "elif Student_Name == \"Keria\":\n",
        "  std2.Grade()\n",
        "elif Student_Name == \"Oner\":\n",
        "  std3.Grade()\n",
        "else:\n",
        "  print(\"Student's name is not in the list of Learners S.Y. 2021-2022\")\n",
        "    "
      ],
      "metadata": {
        "id": "-GfWiFd7l0WT",
        "colab": {
          "base_uri": "https://localhost:8080/"
        },
        "outputId": "fc5cbd35-192e-4ed5-ce1e-2666a758ae6a"
      },
      "execution_count": 52,
      "outputs": [
        {
          "output_type": "stream",
          "name": "stdout",
          "text": [
            "Student's Name: Gumayusi\n",
            "Prelim : 93\n",
            "Midterm: 92\n",
            "Finals : 83\n",
            "--------------------------\n",
            "Average Grade: 89.33\n"
          ]
        }
      ]
    }
  ]
}