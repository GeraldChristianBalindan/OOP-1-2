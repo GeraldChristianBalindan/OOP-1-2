{
  "nbformat": 4,
  "nbformat_minor": 0,
  "metadata": {
    "colab": {
      "name": "Activity 2.ipynb",
      "provenance": [],
      "collapsed_sections": [],
      "authorship_tag": "ABX9TyPtFSE9y1IMAE190gWTvK5E",
      "include_colab_link": true
    },
    "kernelspec": {
      "name": "python3",
      "display_name": "Python 3"
    },
    "language_info": {
      "name": "python"
    }
  },
  "cells": [
    {
      "cell_type": "markdown",
      "metadata": {
        "id": "view-in-github",
        "colab_type": "text"
      },
      "source": [
        "<a href=\"https://colab.research.google.com/github/GeraldChristianBalindan/OOP-1-2/blob/main/Activity_2.ipynb\" target=\"_parent\"><img src=\"https://colab.research.google.com/assets/colab-badge.svg\" alt=\"Open In Colab\"/></a>"
      ]
    },
    {
      "cell_type": "markdown",
      "source": [
        "### Celcius to Fahrenheit coversion"
      ],
      "metadata": {
        "id": "HONqzgDUXFlU"
      }
    },
    {
      "cell_type": "code",
      "execution_count": 14,
      "metadata": {
        "colab": {
          "base_uri": "https://localhost:8080/"
        },
        "id": "jtgINvImW0sf",
        "outputId": "c5b10d77-8a66-41f2-a879-2c280e31ef36"
      },
      "outputs": [
        {
          "output_type": "stream",
          "name": "stdout",
          "text": [
            "51\n",
            "The Converted Value of Celcius to Fahrenheit is: 123.8\n"
          ]
        }
      ],
      "source": [
        "#Write a phython program that converts the temperature Celcius to Fahrenheit. Create a Class name Temperature.\n",
        "#Create Celcius as attribute name Temp() as method, and temp1 as object name\n",
        "\n",
        "class Temperature:\n",
        "  def __init__(self,Celcius):\n",
        "    self.Celcius = Celcius\n",
        "\n",
        "  def conversion(self):\n",
        "    return float(((self.Celcius*1.8) + 32))\n",
        "\n",
        "  def display(self):\n",
        "    print(\"The Converted Value of Celcius to Fahrenheit is:\", self.conversion())\n",
        "\n",
        "temp1 = Temperature(51)\n",
        "\n",
        "print(temp1.Celcius)\n",
        "temp1.display()\n"
      ]
    },
    {
      "cell_type": "code",
      "source": [
        "class Temperature:\n",
        "  def __init__(self,Celcius):\n",
        "    self.Celcius = Celcius\n",
        "\n",
        "  def Temp(self):\n",
        "    result = float(((self.Celcius*1.8) + 32))\n",
        "    return result\n",
        "\n",
        "input_temp = float(input(\"Given Temp to Convert in Fahrenheit:\"))\n",
        "temp1 = Temperature(input_temp)\n",
        "print(round(temp1.Temp(),2))"
      ],
      "metadata": {
        "colab": {
          "base_uri": "https://localhost:8080/"
        },
        "id": "pf4llcV-cFvV",
        "outputId": "accca6df-cbec-4a04-e36b-d98381514d78"
      },
      "execution_count": 15,
      "outputs": [
        {
          "output_type": "stream",
          "name": "stdout",
          "text": [
            "Given Temp to Convert in Fahrenheit:52\n",
            "125.6\n"
          ]
        }
      ]
    },
    {
      "cell_type": "markdown",
      "source": [
        "###Area and Perimeter of Circle"
      ],
      "metadata": {
        "id": "7haLzArII0il"
      }
    },
    {
      "cell_type": "code",
      "source": [
        "import math\n",
        "math.pi\n",
        "\n",
        "def Area_Circle(radius):\n",
        "  Area = math.pi * (radius ** 2)\n",
        "  return Area\n",
        "\n",
        "Area_Circle(int(input(\"enter radius value:\")))"
      ],
      "metadata": {
        "colab": {
          "base_uri": "https://localhost:8080/"
        },
        "id": "jtIR-uzM-sV2",
        "outputId": "62feb01c-5b31-452c-9260-95976e6706f5"
      },
      "execution_count": 16,
      "outputs": [
        {
          "name": "stdout",
          "output_type": "stream",
          "text": [
            "enter radius value:10\n"
          ]
        },
        {
          "output_type": "execute_result",
          "data": {
            "text/plain": [
              "314.1592653589793"
            ]
          },
          "metadata": {},
          "execution_count": 16
        }
      ]
    },
    {
      "cell_type": "code",
      "source": [
        "import math\n",
        "math.pi\n",
        "\n",
        "def Area_Circle(radius):\n",
        "  Perimeter = ((2*math.pi)*radius)\n",
        "  return Perimeter\n",
        "\n",
        "Area_Circle(int(input(\"enter radius value:\")))"
      ],
      "metadata": {
        "colab": {
          "base_uri": "https://localhost:8080/"
        },
        "id": "crBCqgGc--vn",
        "outputId": "cc237f92-a67b-4f69-a052-521f110f16f9"
      },
      "execution_count": 17,
      "outputs": [
        {
          "name": "stdout",
          "output_type": "stream",
          "text": [
            "enter radius value:15\n"
          ]
        },
        {
          "output_type": "execute_result",
          "data": {
            "text/plain": [
              "94.24777960769379"
            ]
          },
          "metadata": {},
          "execution_count": 17
        }
      ]
    },
    {
      "cell_type": "code",
      "source": [
        "import math\n",
        "math.pi\n",
        "\n",
        "class Area:\n",
        "  def __init__(self,radius):\n",
        "    self.radius = radius\n",
        "\n",
        "  def Area(self):\n",
        "    result = math.pi*self.radius ** 2\n",
        "    return result\n",
        "\n",
        "input_radius1 = float(input(\"Given measurement of radius:\"))\n",
        "radius1 = Area(input_radius1)\n",
        "print(round(radius1.Area(),2))"
      ],
      "metadata": {
        "colab": {
          "base_uri": "https://localhost:8080/"
        },
        "id": "K4P3F6DcJvOg",
        "outputId": "00fa9f9b-2904-4018-e872-276342813173"
      },
      "execution_count": 18,
      "outputs": [
        {
          "output_type": "stream",
          "name": "stdout",
          "text": [
            "Given measurement of radius:10\n",
            "314.16\n"
          ]
        }
      ]
    },
    {
      "cell_type": "code",
      "source": [
        "import math\n",
        "math.pi\n",
        "\n",
        "class Perimeter:\n",
        "  def __init__(self,radius):\n",
        "    self.radius = radius\n",
        "\n",
        "  def Perimeter(self):\n",
        "    result = float((2*math.pi)*self.radius)\n",
        "    return result\n",
        "\n",
        "input_radius2 = float(input(\"Given measurement of radius:\"))\n",
        "radius2 = Perimeter(input_radius2)\n",
        "print(round(radius2.Perimeter(),2))"
      ],
      "metadata": {
        "colab": {
          "base_uri": "https://localhost:8080/"
        },
        "id": "VX9x6RjjJzhr",
        "outputId": "d5a40eb7-3141-4a90-ea1e-d6e1d5c05a7a"
      },
      "execution_count": 19,
      "outputs": [
        {
          "output_type": "stream",
          "name": "stdout",
          "text": [
            "Given measurement of radius:15\n",
            "94.25\n"
          ]
        }
      ]
    },
    {
      "cell_type": "code",
      "source": [
        "import math\n",
        "math.pi\n",
        "\n",
        "class Area:\n",
        "  def __init__(self,radius):\n",
        "    self.radius = radius\n",
        "\n",
        "  def Area(self):\n",
        "    result = math.pi*self.radius**2\n",
        "    return result\n",
        "\n",
        "input_radius1 = float(input(\"Given measurement of radius to find Area:\"))\n",
        "radius1 = Area(input_radius1)\n",
        "print(round(radius1.Area(),2))\n",
        "\n",
        "class Perimeter:\n",
        "  def __init__(self,radius):\n",
        "    self.radius = radius\n",
        "\n",
        "  def Perimeter(self):\n",
        "    result = float((2*math.pi)*self.radius)\n",
        "    return result\n",
        "\n",
        "input_radius2 = float(input(\"Given measurement of radius to find Perimeter:\"))\n",
        "radius2 = Perimeter(input_radius2)\n",
        "print(round(radius2.Perimeter(),2))"
      ],
      "metadata": {
        "id": "G5B0JuuULjiN",
        "outputId": "b0609a75-7330-479e-aefc-17fb00513beb",
        "colab": {
          "base_uri": "https://localhost:8080/"
        }
      },
      "execution_count": 20,
      "outputs": [
        {
          "output_type": "stream",
          "name": "stdout",
          "text": [
            "Given measurement of radius to find Area:10\n",
            "314.16\n",
            "Given measurement of radius to find Perimeter:15\n",
            "94.25\n"
          ]
        }
      ]
    }
  ]
}